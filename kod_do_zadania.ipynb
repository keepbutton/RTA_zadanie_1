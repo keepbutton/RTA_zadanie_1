{
 "cells": [
  {
   "cell_type": "code",
   "execution_count": 9,
   "id": "1e38a296-bc5d-42d6-92ef-08806a4f2b08",
   "metadata": {},
   "outputs": [
    {
     "name": "stdout",
     "output_type": "stream",
     "text": [
      "Writing app.py\n"
     ]
    }
   ],
   "source": [
    "%%file app.py\n",
    "from flask import Flask, request, jsonify\n",
    "\n",
    "app = Flask(__name__)\n",
    "\n",
    "@app.route('/api/v1.0/predict', methods=['GET'])\n",
    "def predict():\n",
    "    try:\n",
    "        num1 = float(request.args.get('num1', 0))\n",
    "        num2 = float(request.args.get('num2', 0))\n",
    "    except ValueError:\n",
    "        return jsonify({\"error\": \"Podano nieprawidłowe dane liczbowe.\"}), 400\n",
    "\n",
    "    features = {\"num1\": num1, \"num2\": num2}\n",
    "    prediction = 1 if sum(features.values()) > 5.8 else 0\n",
    "\n",
    "    output = {\n",
    "        \"prediction\": prediction,\n",
    "        \"features\": features\n",
    "    }\n",
    "    return jsonify(output)\n",
    "\n",
    "if __name__ == '__main__':\n",
    "    app.run(debug=True, host='0.0.0.0')"
   ]
  },
  {
   "cell_type": "code",
   "execution_count": 2,
   "id": "946754fa-2a10-4b8b-963b-2b2077300e17",
   "metadata": {},
   "outputs": [],
   "source": [
    "requirements = \"\"\"\n",
    "Flask==2.0.1\n",
    "\"\"\"\n",
    "\n",
    "with open(\"requirements.txt\", \"w\") as f:\n",
    "    f.write(requirements)\n"
   ]
  },
  {
   "cell_type": "code",
   "execution_count": null,
   "id": "2379eeb9-d5ee-4427-9494-612d7cbf3502",
   "metadata": {},
   "outputs": [],
   "source": []
  },
  {
   "cell_type": "code",
   "execution_count": null,
   "id": "96659078-7c9d-4bef-b979-cdea396cdac8",
   "metadata": {},
   "outputs": [],
   "source": []
  }
 ],
 "metadata": {
  "kernelspec": {
   "display_name": "Python 3 (ipykernel)",
   "language": "python",
   "name": "python3"
  },
  "language_info": {
   "codemirror_mode": {
    "name": "ipython",
    "version": 3
   },
   "file_extension": ".py",
   "mimetype": "text/x-python",
   "name": "python",
   "nbconvert_exporter": "python",
   "pygments_lexer": "ipython3",
   "version": "3.11.6"
  }
 },
 "nbformat": 4,
 "nbformat_minor": 5
}
